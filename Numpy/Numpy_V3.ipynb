{
 "cells": [
  {
   "cell_type": "markdown",
   "id": "5b648a6b-a693-4c0b-8e4a-1ae99ebca60b",
   "metadata": {},
   "source": [
    "# Random"
   ]
  },
  {
   "cell_type": "markdown",
   "id": "6542aac1-f773-4f12-8e46-26550cf6069c",
   "metadata": {},
   "source": [
    "## Rand()"
   ]
  },
  {
   "cell_type": "code",
   "execution_count": 2,
   "id": "bbf67f1b-80bf-48be-8c72-565a4dc39fe3",
   "metadata": {},
   "outputs": [],
   "source": [
    "import numpy"
   ]
  },
  {
   "cell_type": "code",
   "execution_count": 3,
   "id": "3d04766d-dc3c-48b3-baa3-39dd3e68d71b",
   "metadata": {},
   "outputs": [],
   "source": [
    "import numpy as np"
   ]
  },
  {
   "cell_type": "code",
   "execution_count": 4,
   "id": "28bfc0f2-f203-4ba0-9e16-cae21f2d397e",
   "metadata": {},
   "outputs": [
    {
     "name": "stdout",
     "output_type": "stream",
     "text": [
      "[0.50516259 0.20217249 0.38831539 0.05768848]\n"
     ]
    }
   ],
   "source": [
    "# Creating numpy array with random numbers \n",
    "\n",
    "# 1D\n",
    "\n",
    "var = np.random.rand(4)\n",
    "print(var)"
   ]
  },
  {
   "cell_type": "code",
   "execution_count": 4,
   "id": "84991f7e-e003-44be-ad2b-44badaf989a1",
   "metadata": {},
   "outputs": [
    {
     "name": "stdout",
     "output_type": "stream",
     "text": [
      "[[0.57013027 0.9309724  0.67689368]\n",
      " [0.79135458 0.37282493 0.76982656]]\n"
     ]
    }
   ],
   "source": [
    "# 2D \n",
    "\n",
    "var_2 = np.random.rand(2,3)\n",
    "print(var_2)"
   ]
  },
  {
   "cell_type": "code",
   "execution_count": 5,
   "id": "11fd3980-8fe3-4a22-b0ee-6a4bdbf94cdb",
   "metadata": {},
   "outputs": [
    {
     "name": "stdout",
     "output_type": "stream",
     "text": [
      "[[[0.97636702 0.55306779 0.49954818 0.79698084]\n",
      "  [0.44341453 0.05046797 0.90109035 0.28770401]\n",
      "  [0.3981055  0.37302616 0.10698562 0.8489519 ]]\n",
      "\n",
      " [[0.13438652 0.9426341  0.21674296 0.569022  ]\n",
      "  [0.74301321 0.90244712 0.22328478 0.26255909]\n",
      "  [0.18046685 0.89546437 0.63058185 0.70570921]]]\n"
     ]
    }
   ],
   "source": [
    "# 3D\n",
    "\n",
    "var_3 = np.random.rand(2,3,4)\n",
    "print(var_3)"
   ]
  },
  {
   "cell_type": "code",
   "execution_count": null,
   "id": "86776d85-74b3-456a-aa20-7e550ff19579",
   "metadata": {},
   "outputs": [],
   "source": []
  }
 ],
 "metadata": {
  "kernelspec": {
   "display_name": "Python 3 (ipykernel)",
   "language": "python",
   "name": "python3"
  },
  "language_info": {
   "codemirror_mode": {
    "name": "ipython",
    "version": 3
   },
   "file_extension": ".py",
   "mimetype": "text/x-python",
   "name": "python",
   "nbconvert_exporter": "python",
   "pygments_lexer": "ipython3",
   "version": "3.11.4"
  }
 },
 "nbformat": 4,
 "nbformat_minor": 5
}
