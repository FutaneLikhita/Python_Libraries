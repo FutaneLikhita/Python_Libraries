{
 "cells": [
  {
   "cell_type": "markdown",
   "id": "5b648a6b-a693-4c0b-8e4a-1ae99ebca60b",
   "metadata": {},
   "source": [
    "# Random"
   ]
  },
  {
   "cell_type": "markdown",
   "id": "6542aac1-f773-4f12-8e46-26550cf6069c",
   "metadata": {},
   "source": [
    "## Rand()"
   ]
  },
  {
   "cell_type": "code",
   "execution_count": 2,
   "id": "bbf67f1b-80bf-48be-8c72-565a4dc39fe3",
   "metadata": {},
   "outputs": [],
   "source": [
    "import numpy"
   ]
  },
  {
   "cell_type": "code",
   "execution_count": 3,
   "id": "3d04766d-dc3c-48b3-baa3-39dd3e68d71b",
   "metadata": {},
   "outputs": [],
   "source": [
    "import numpy as np"
   ]
  },
  {
   "cell_type": "code",
   "execution_count": 4,
   "id": "28bfc0f2-f203-4ba0-9e16-cae21f2d397e",
   "metadata": {},
   "outputs": [
    {
     "name": "stdout",
     "output_type": "stream",
     "text": [
      "[0.50516259 0.20217249 0.38831539 0.05768848]\n"
     ]
    }
   ],
   "source": [
    "# Creating numpy array with random numbers \n",
    "\n",
    "# 1D\n",
    "\n",
    "var = np.random.rand(4)\n",
    "print(var)"
   ]
  },
  {
   "cell_type": "code",
   "execution_count": null,
   "id": "84991f7e-e003-44be-ad2b-44badaf989a1",
   "metadata": {},
   "outputs": [],
   "source": []
  }
 ],
 "metadata": {
  "kernelspec": {
   "display_name": "Python 3 (ipykernel)",
   "language": "python",
   "name": "python3"
  },
  "language_info": {
   "codemirror_mode": {
    "name": "ipython",
    "version": 3
   },
   "file_extension": ".py",
   "mimetype": "text/x-python",
   "name": "python",
   "nbconvert_exporter": "python",
   "pygments_lexer": "ipython3",
   "version": "3.11.4"
  }
 },
 "nbformat": 4,
 "nbformat_minor": 5
}
