{
 "cells": [
  {
   "cell_type": "code",
   "execution_count": null,
   "id": "8dab6f82-f197-408b-a932-426a6145dc0d",
   "metadata": {},
   "outputs": [],
   "source": []
  }
 ],
 "metadata": {
  "kernelspec": {
   "display_name": "",
   "name": ""
  },
  "language_info": {
   "name": ""
  }
 },
 "nbformat": 4,
 "nbformat_minor": 5
}
