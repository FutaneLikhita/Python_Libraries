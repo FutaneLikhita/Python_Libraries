{
 "cells": [
  {
   "cell_type": "markdown",
   "id": "e34e45d0-4750-481b-84ef-b72a7e843bc8",
   "metadata": {},
   "source": [
    "# Data Type Functions"
   ]
  },
  {
   "cell_type": "code",
   "execution_count": 3,
   "id": "8dab6f82-f197-408b-a932-426a6145dc0d",
   "metadata": {},
   "outputs": [],
   "source": [
    "import numpy"
   ]
  },
  {
   "cell_type": "code",
   "execution_count": 4,
   "id": "8dbe5459-e388-4466-a53a-12f73992322a",
   "metadata": {},
   "outputs": [],
   "source": [
    "import numpy as np"
   ]
  },
  {
   "cell_type": "code",
   "execution_count": 9,
   "id": "d8d47bbe-7b6d-4859-84f2-db05899d4580",
   "metadata": {},
   "outputs": [
    {
     "name": "stdout",
     "output_type": "stream",
     "text": [
      "Data Type :  int64\n"
     ]
    }
   ],
   "source": [
    "# Finding data type \n",
    "\n",
    "# For integer\n",
    "\n",
    "var = np.array([1,2,3,4,5,11,12,13,14,15])\n",
    "\n",
    "print(\"Data Type : \",var.dtype)"
   ]
  },
  {
   "cell_type": "code",
   "execution_count": 8,
   "id": "50afe7f5-bb46-47bf-a119-44b1a4c991ab",
   "metadata": {},
   "outputs": [
    {
     "name": "stdout",
     "output_type": "stream",
     "text": [
      "Data Type :  int64\n"
     ]
    }
   ],
   "source": [
    "var = np.array([1,2,3,4,5])\n",
    "\n",
    "print(\"Data Type : \",var.dtype)"
   ]
  },
  {
   "cell_type": "code",
   "execution_count": 12,
   "id": "b402c210-3dae-48fb-a8b4-8a0824d55e23",
   "metadata": {},
   "outputs": [
    {
     "name": "stdout",
     "output_type": "stream",
     "text": [
      "Data Type :  float64\n"
     ]
    }
   ],
   "source": [
    "# For float \n",
    "\n",
    "var1 = np.array([1.0,2.5,3.7,4.3,5.11])\n",
    "\n",
    "print(\"Data Type : \",var.dtype)\n"
   ]
  },
  {
   "cell_type": "code",
   "execution_count": 13,
   "id": "116444a2-0f61-4417-85e8-28d752879891",
   "metadata": {},
   "outputs": [
    {
     "name": "stdout",
     "output_type": "stream",
     "text": [
      "Data Type :  <U1\n"
     ]
    }
   ],
   "source": [
    "# For String \n",
    "\n",
    "var2 = np.array(['a','b','c','d'])\n",
    "print(\"Data Type : \",var2.dtype)"
   ]
  },
  {
   "cell_type": "code",
   "execution_count": 14,
   "id": "de725175-6050-4888-975c-f29e05ee1859",
   "metadata": {},
   "outputs": [
    {
     "name": "stdout",
     "output_type": "stream",
     "text": [
      "Data Type :  <U21\n"
     ]
    }
   ],
   "source": [
    "# String + Numbers \n",
    "\n",
    "var2 = np.array(['a','b','c','d',1,2,3,4,5])\n",
    "print(\"Data Type : \",var2.dtype)"
   ]
  },
  {
   "cell_type": "markdown",
   "id": "8bbac3e4-e718-4fad-965a-4a9601977910",
   "metadata": {},
   "source": [
    "## Changing datatype like (int8 replace to int32)"
   ]
  },
  {
   "cell_type": "code",
   "execution_count": 22,
   "id": "6f9fc4a4-38d9-4f9a-ae83-1c504bb56a7b",
   "metadata": {},
   "outputs": [
    {
     "name": "stdout",
     "output_type": "stream",
     "text": [
      "Data Type :  int64\n"
     ]
    }
   ],
   "source": [
    "# int64\n",
    "\n",
    "x = np.array([1,2,3,4,5])\n",
    "\n",
    "print(\"Data Type : \",x.dtype)"
   ]
  },
  {
   "cell_type": "code",
   "execution_count": 23,
   "id": "916d2411-6efe-465b-ac78-0b58c9e9a19a",
   "metadata": {},
   "outputs": [
    {
     "name": "stdout",
     "output_type": "stream",
     "text": [
      "Data Type :  int8\n",
      "[1 2 3 4 5]\n"
     ]
    }
   ],
   "source": [
    "# changing (int64 to int8)\n",
    "\n",
    "x = np.array([1,2,3,4,5], dtype = np.int8)\n",
    "\n",
    "print(\"Data Type : \",x.dtype)\n",
    "print(x)"
   ]
  },
  {
   "cell_type": "code",
   "execution_count": 28,
   "id": "b1783b3f-2edf-4bc6-919a-f666daebd927",
   "metadata": {},
   "outputs": [
    {
     "name": "stdout",
     "output_type": "stream",
     "text": [
      "Data Type :  float32\n",
      "[1. 2. 3. 4. 5.]\n"
     ]
    }
   ],
   "source": [
    "# Converting int into float \n",
    "\n",
    "x1 = np.array([1,2,3,4,5], dtype = \"f\")\n",
    "\n",
    "print(\"Data Type : \",x1.dtype)\n",
    "print(x1)\n"
   ]
  },
  {
   "cell_type": "code",
   "execution_count": 30,
   "id": "ad9cbe74-ac1c-489d-862a-0c5c9d985faa",
   "metadata": {},
   "outputs": [
    {
     "name": "stdout",
     "output_type": "stream",
     "text": [
      "Data Type :  int64\n",
      "Data Type :  float32\n",
      "Data Type :  int16\n",
      "[1 2 3 4 5]\n",
      "[1. 2. 3. 4. 5.]\n",
      "[1 2 3 4 5]\n"
     ]
    }
   ],
   "source": [
    "# converting datatypes\n",
    "\n",
    "x2 = np.array([1,2,3,4,5])\n",
    "\n",
    "# Converting int to float32\n",
    "New = np.float32(x2)\n",
    "\n",
    "# Converting float to int16\n",
    "New_1 = np.int16(New)\n",
    "print(\"Data Type : \",x2.dtype)\n",
    "print(\"Data Type : \",New.dtype)\n",
    "print(\"Data Type : \",New_1.dtype)\n",
    "print(x2) \n",
    "print(New)\n",
    "print(New_1)\n"
   ]
  },
  {
   "cell_type": "code",
   "execution_count": null,
   "id": "94e99053-7c07-4b17-93db-13e1f1c88ff0",
   "metadata": {},
   "outputs": [],
   "source": []
  }
 ],
 "metadata": {
  "kernelspec": {
   "display_name": "Python 3 (ipykernel)",
   "language": "python",
   "name": "python3"
  },
  "language_info": {
   "codemirror_mode": {
    "name": "ipython",
    "version": 3
   },
   "file_extension": ".py",
   "mimetype": "text/x-python",
   "name": "python",
   "nbconvert_exporter": "python",
   "pygments_lexer": "ipython3",
   "version": "3.11.4"
  }
 },
 "nbformat": 4,
 "nbformat_minor": 5
}
