{
 "cells": [
  {
   "cell_type": "markdown",
   "id": "6d87c7a3-5535-414f-be5b-cb0f6e771b17",
   "metadata": {},
   "source": [
    "# Shape"
   ]
  },
  {
   "cell_type": "code",
   "execution_count": 2,
   "id": "d8c6452b-8647-41bb-a967-b137c72e1045",
   "metadata": {},
   "outputs": [],
   "source": [
    "import numpy"
   ]
  },
  {
   "cell_type": "code",
   "execution_count": 3,
   "id": "044613b3-6330-4b8e-8836-c30b45a9e255",
   "metadata": {},
   "outputs": [],
   "source": [
    "import numpy as np"
   ]
  },
  {
   "cell_type": "markdown",
   "id": "f14a82ae-ade1-41d7-9383-cad3ac315a62",
   "metadata": {},
   "source": [
    "## 1D array"
   ]
  },
  {
   "cell_type": "code",
   "execution_count": 9,
   "id": "4cd9d5c4-9bb4-4650-82b4-964dc0f6287b",
   "metadata": {},
   "outputs": [
    {
     "name": "stdout",
     "output_type": "stream",
     "text": [
      "[1 2 3 4 5]\n",
      "(5,)\n"
     ]
    }
   ],
   "source": [
    "var = np.array([1, 2, 3, 4, 5])\n",
    "\n",
    "# Printing array \n",
    "print(var)\n",
    "\n",
    "# Printing shape of array           # o/p (5,) means 1 row and 5 elements\n",
    "print(var.shape)"
   ]
  },
  {
   "cell_type": "markdown",
   "id": "faf05a84-edee-4448-8ea4-c3c06ec7d08a",
   "metadata": {},
   "source": [
    "## 2D array"
   ]
  },
  {
   "cell_type": "code",
   "execution_count": 13,
   "id": "96eb3db3-ce8a-4340-a36a-079562bb5815",
   "metadata": {},
   "outputs": [
    {
     "name": "stdout",
     "output_type": "stream",
     "text": [
      "[[1 2 3 4]\n",
      " [1 2 3 4]]\n",
      "(2, 4)\n"
     ]
    }
   ],
   "source": [
    "var = np.array([[1, 2, 3, 4],[1, 2, 3, 4]]) \n",
    "\n",
    "# Printing array \n",
    "print(var)\n",
    "\n",
    "# Printing shape of array           # o/p (2, 4) means 2 row and 4 col.\n",
    "print(var.shape)"
   ]
  },
  {
   "cell_type": "markdown",
   "id": "2e0d4b45-d9c2-4ed5-9b1e-0021f253a407",
   "metadata": {},
   "source": [
    "## 3D array"
   ]
  },
  {
   "cell_type": "code",
   "execution_count": 16,
   "id": "fe8e2b05-6bb0-4da9-a845-c556aa48061f",
   "metadata": {},
   "outputs": [
    {
     "name": "stdout",
     "output_type": "stream",
     "text": [
      "[[[1 2]\n",
      "  [1 2]]\n",
      "\n",
      " [[1 2]\n",
      "  [1 2]]]\n",
      "(2, 2, 2)\n"
     ]
    }
   ],
   "source": [
    "var = np.array([[[1, 2],[1, 2]],[[1, 2],[1, 2]]])\n",
    "\n",
    "# Printing array \n",
    "print(var)\n",
    "\n",
    "# Printing shape of array           # o/p (2,2,2) means 2- blocks, 2 -rows and 2 -col.\n",
    "print(var.shape)"
   ]
  },
  {
   "cell_type": "code",
   "execution_count": 22,
   "id": "d611bffa-462c-4673-af8c-4dc09b420ac4",
   "metadata": {},
   "outputs": [
    {
     "name": "stdout",
     "output_type": "stream",
     "text": [
      "3\n",
      "(1, 1, 4)\n"
     ]
    }
   ],
   "source": [
    "# Another example of multi - dimensional array \n",
    "\n",
    "var = np.array([1, 2, 3, 4], ndmin = 3)\n",
    "\n",
    "# Printing array \n",
    "print(var.ndim)\n",
    "\n",
    "# Printing shape of array           # o/p (1, 1, 4) means 1 block, 1 row and 4 col.\n",
    "print(var.shape)"
   ]
  },
  {
   "cell_type": "markdown",
   "id": "663d4af4-3358-4212-b982-5e14404b0dd4",
   "metadata": {},
   "source": [
    "# Reshaping "
   ]
  },
  {
   "cell_type": "markdown",
   "id": "7bf66e48-ac19-4f42-9280-86b2da475d56",
   "metadata": {},
   "source": [
    "## 1D → 2D"
   ]
  },
  {
   "cell_type": "code",
   "execution_count": 29,
   "id": "92a0d7dc-737e-4128-9699-4e8b240f01c6",
   "metadata": {},
   "outputs": [
    {
     "name": "stdout",
     "output_type": "stream",
     "text": [
      "[1 2 3 4 5 6]\n",
      "1\n",
      "\n",
      "[[1 2]\n",
      " [3 4]\n",
      " [5 6]]\n",
      "2\n"
     ]
    }
   ],
   "source": [
    "## reshape() changes the shape of the array without changing the data.\n",
    "#The total number of elements must remain the same.   \n",
    "\n",
    "# 1D → 2D\n",
    "var1 = np.array([1, 2, 3, 4, 5, 6]) \n",
    "\n",
    "# Printing var1\n",
    "print(var1) \n",
    "\n",
    "# Printing dimension.\n",
    "print(var1.ndim) \n",
    "\n",
    "print()  #print blank for space\n",
    "\n",
    "# Creating new variable and using reshape \n",
    "x = (var1.reshape(3, 2)) \n",
    "\n",
    "# Printing new variable\n",
    "print(x) \n",
    "\n",
    "# Printing dimension.\n",
    "print(x.ndim)\n",
    "\n",
    "\n",
    "\n",
    "\n"
   ]
  },
  {
   "cell_type": "markdown",
   "id": "3c5dafbd-1b2e-4dda-a502-77f1b8dba9f7",
   "metadata": {},
   "source": [
    "# 1D → 3D"
   ]
  },
  {
   "cell_type": "code",
   "execution_count": 31,
   "id": "08e77f12-f59a-498e-bf28-8f3e7720eaa1",
   "metadata": {},
   "outputs": [
    {
     "name": "stdout",
     "output_type": "stream",
     "text": [
      "[ 1  2  3  4  5  6  7  8  9 10 11 12]\n",
      "1\n",
      "\n",
      "[[[ 1  2]\n",
      "  [ 3  4]\n",
      "  [ 5  6]]\n",
      "\n",
      " [[ 7  8]\n",
      "  [ 9 10]\n",
      "  [11 12]]]\n",
      "3\n"
     ]
    }
   ],
   "source": [
    "# 1D → 3D\n",
    "\n",
    "var2 = np.array([1, 2, 3, 4, 5, 6, 7, 8, 9, 10, 11, 12]) \n",
    "\n",
    "# Printing var2\n",
    "print(var2) \n",
    "\n",
    "# Printing dimension.\n",
    "print(var2.ndim) \n",
    "\n",
    "print()  #print blank for space\n",
    "\n",
    "# Creating new variable and using reshape \n",
    "x1 = (var2.reshape(2, 3, 2)) \n",
    "\n",
    "# Printing new variable\n",
    "print(x1) \n",
    "\n",
    "# Printing dimension.\n",
    "print(x1.ndim)"
   ]
  },
  {
   "cell_type": "code",
   "execution_count": null,
   "id": "606289fd-f829-4cdb-9524-6212fbb756b0",
   "metadata": {},
   "outputs": [],
   "source": []
  }
 ],
 "metadata": {
  "kernelspec": {
   "display_name": "Python 3 (ipykernel)",
   "language": "python",
   "name": "python3"
  },
  "language_info": {
   "codemirror_mode": {
    "name": "ipython",
    "version": 3
   },
   "file_extension": ".py",
   "mimetype": "text/x-python",
   "name": "python",
   "nbconvert_exporter": "python",
   "pygments_lexer": "ipython3",
   "version": "3.11.4"
  }
 },
 "nbformat": 4,
 "nbformat_minor": 5
}
