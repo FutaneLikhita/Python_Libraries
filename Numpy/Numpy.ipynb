{
 "cells": [
  {
   "cell_type": "markdown",
   "id": "5c543bd6-963e-40c9-b561-3cd87658a556",
   "metadata": {},
   "source": [
    "# Difference Between Python List vs Numpy Array"
   ]
  },
  {
   "cell_type": "code",
   "execution_count": 10,
   "id": "f31f6d70-f695-4010-946a-04d046ffd5a2",
   "metadata": {},
   "outputs": [],
   "source": [
    "import numpy"
   ]
  },
  {
   "cell_type": "code",
   "execution_count": 11,
   "id": "c105eea7-5624-4df9-9bcd-98f4390b6aac",
   "metadata": {},
   "outputs": [],
   "source": [
    "import numpy as np"
   ]
  },
  {
   "cell_type": "code",
   "execution_count": 6,
   "id": "cd3cea40-638b-4675-a6c2-6eb3c1f2715d",
   "metadata": {
    "scrolled": true
   },
   "outputs": [
    {
     "name": "stdout",
     "output_type": "stream",
     "text": [
      "[1 2 3 4 5]\n",
      "<class 'numpy.ndarray'>\n"
     ]
    }
   ],
   "source": [
    "x = np.array([1,2,3,4,5])\n",
    "print(x)\n",
    "print(type(x))"
   ]
  },
  {
   "cell_type": "code",
   "execution_count": 7,
   "id": "9d5aec58-4e15-4f75-85da-939ba0f96d16",
   "metadata": {},
   "outputs": [
    {
     "name": "stdout",
     "output_type": "stream",
     "text": [
      "[1, 2, 3, 4, 5]\n",
      "<class 'list'>\n"
     ]
    }
   ],
   "source": [
    "y = [1,2,3,4,5]\n",
    "print(y)\n",
    "print(type(y))"
   ]
  },
  {
   "cell_type": "markdown",
   "id": "7c7beabc-ace1-4eb0-a3dd-2081bc726cba",
   "metadata": {},
   "source": [
    "# List time calculation"
   ]
  },
  {
   "cell_type": "code",
   "execution_count": 15,
   "id": "d2d401fa-2c67-44e9-997a-333771d9b905",
   "metadata": {},
   "outputs": [
    {
     "name": "stdout",
     "output_type": "stream",
     "text": [
      "10.7 µs ± 112 ns per loop (mean ± std. dev. of 7 runs, 100,000 loops each)\n"
     ]
    }
   ],
   "source": [
    "%timeit [(i ** 2) for i in range (1,100+1)]"
   ]
  },
  {
   "cell_type": "code",
   "execution_count": 8,
   "id": "f72713b2-a25d-4ebc-b44c-8d199236ad35",
   "metadata": {},
   "outputs": [
    {
     "name": "stdout",
     "output_type": "stream",
     "text": [
      "11.8 µs ± 80.6 ns per loop (mean ± std. dev. of 7 runs, 100,000 loops each)\n"
     ]
    }
   ],
   "source": [
    "%%timeit \n",
    "\n",
    "li = []\n",
    "for i in range (1,100+1):\n",
    "    li.append(i ** 2)"
   ]
  },
  {
   "cell_type": "markdown",
   "id": "8f0211c0-c8af-4c6d-8580-e9c667a461f7",
   "metadata": {},
   "source": [
    "# Numpy Array time calculation"
   ]
  },
  {
   "cell_type": "code",
   "execution_count": 16,
   "id": "739ddb49-40b1-4816-b7ad-9ec4d77874b3",
   "metadata": {},
   "outputs": [
    {
     "name": "stdout",
     "output_type": "stream",
     "text": [
      "2.81 µs ± 49 ns per loop (mean ± std. dev. of 7 runs, 100,000 loops each)\n"
     ]
    }
   ],
   "source": [
    "%timeit (np.arange(1,100+1))**2 "
   ]
  },
  {
   "cell_type": "markdown",
   "id": "29ca387c-b3f1-4c51-9d94-a52e2b8cbaa0",
   "metadata": {},
   "source": [
    "\n"
   ]
  },
  {
   "cell_type": "markdown",
   "id": "eacac8ac-6b1d-4c88-8195-13d5f2db4480",
   "metadata": {},
   "source": [
    "# Array"
   ]
  },
  {
   "cell_type": "code",
   "execution_count": 23,
   "id": "f4e3f724-59ad-45f9-912d-7658b80a47b1",
   "metadata": {},
   "outputs": [
    {
     "name": "stdout",
     "output_type": "stream",
     "text": [
      "[1 2 3 4]\n",
      "<class 'numpy.ndarray'>\n"
     ]
    }
   ],
   "source": [
    "li = [1, 2, 3, 4]\n",
    "\n",
    "# Creating numpy array\n",
    "x = np.array(li)\n",
    "\n",
    "# Printing array \n",
    "print(x)\n",
    "\n",
    "# Printing type of array\n",
    "print(type(x))               # ndarray = n dimensional array"
   ]
  },
  {
   "cell_type": "code",
   "execution_count": 24,
   "id": "eebc8315-5382-4c50-8b4e-ba199c390fa5",
   "metadata": {},
   "outputs": [
    {
     "name": "stdin",
     "output_type": "stream",
     "text": [
      "Enter no :  2\n",
      "Enter no :  3\n",
      "Enter no :  4\n",
      "Enter no :  5\n",
      "Enter no :  6\n"
     ]
    },
    {
     "name": "stdout",
     "output_type": "stream",
     "text": [
      "[2 3 4 5 6]\n"
     ]
    }
   ],
   "source": [
    "# Creating empty list \n",
    "l = []\n",
    "\n",
    "# Running for loop from 1 to 5\n",
    "for i in range(1,6):\n",
    "\n",
    "    # Getting input from user in int format \n",
    "    x = int(input(\"Enter no : \"))\n",
    "\n",
    "    # Appending the value to list l\n",
    "    l.append(x)\n",
    "    \n",
    "# Converting list to numpy array and printing\n",
    "print(np.array(l))\n",
    "    "
   ]
  },
  {
   "cell_type": "code",
   "execution_count": null,
   "id": "8001aaea-4f2f-4f4a-8514-91dbb50d2e4f",
   "metadata": {},
   "outputs": [],
   "source": []
  }
 ],
 "metadata": {
  "kernelspec": {
   "display_name": "Python 3 (ipykernel)",
   "language": "python",
   "name": "python3"
  },
  "language_info": {
   "codemirror_mode": {
    "name": "ipython",
    "version": 3
   },
   "file_extension": ".py",
   "mimetype": "text/x-python",
   "name": "python",
   "nbconvert_exporter": "python",
   "pygments_lexer": "ipython3",
   "version": "3.11.4"
  }
 },
 "nbformat": 4,
 "nbformat_minor": 5
}
