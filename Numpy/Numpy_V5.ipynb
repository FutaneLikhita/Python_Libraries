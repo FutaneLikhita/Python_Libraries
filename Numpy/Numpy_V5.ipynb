{
 "cells": [
  {
   "cell_type": "markdown",
   "id": "9c6e3545-e14f-4794-9f3a-11ee200fc2bb",
   "metadata": {},
   "source": [
    "# Arithmetic Operation"
   ]
  },
  {
   "cell_type": "code",
   "execution_count": 1,
   "id": "433dac57-8520-4dfa-8dcf-3d2f0d31f02f",
   "metadata": {},
   "outputs": [],
   "source": [
    "import numpy "
   ]
  },
  {
   "cell_type": "code",
   "execution_count": 2,
   "id": "107ae8e2-bb89-4b19-9cb8-3809da91b935",
   "metadata": {},
   "outputs": [],
   "source": [
    "import numpy as np"
   ]
  },
  {
   "cell_type": "code",
   "execution_count": 6,
   "id": "24ea6e80-d016-4e69-b6c4-407e3dd2dc90",
   "metadata": {},
   "outputs": [
    {
     "name": "stdout",
     "output_type": "stream",
     "text": [
      "[5 6 7 8 9]\n"
     ]
    }
   ],
   "source": [
    "# 1D Array for arithmetic operation    \n",
    "# Addition \n",
    "var = np.array([1, 2, 3, 4, 5])    # Means isme humne jo (var + 4) diya hai wo var me add hoga.\n",
    "                                   #  Jaise 4+1, 4+2, 4+3, 4+4, 4+5 \n",
    "var_add = var + 4 \n",
    "\n",
    "print(var_add)"
   ]
  },
  {
   "cell_type": "code",
   "execution_count": 7,
   "id": "cb01e9ad-bdfe-4de0-94e2-19cecde2d754",
   "metadata": {},
   "outputs": [
    {
     "name": "stdout",
     "output_type": "stream",
     "text": [
      "[-3 -2 -1  0  1]\n"
     ]
    }
   ],
   "source": [
    "# Subtraction \n",
    "\n",
    "var = np.array([1, 2, 3, 4, 5])    # Means isme humne jo (var - 4) diya hai wo var me add hoga.\n",
    "                                   #  Jaise 4-1, 4-2, 4-3, 4-4, 4-5 \n",
    "var_add = var - 4 \n",
    "\n",
    "print(var_add)\n"
   ]
  },
  {
   "cell_type": "code",
   "execution_count": 8,
   "id": "5e78b812-af1a-41ab-9990-f06123bbefed",
   "metadata": {},
   "outputs": [
    {
     "name": "stdout",
     "output_type": "stream",
     "text": [
      "[ 4  8 12 16 20]\n"
     ]
    }
   ],
   "source": [
    "# Multiplication \n",
    "\n",
    "var = np.array([1, 2, 3, 4, 5])\n",
    "\n",
    "var_add = var * 4\n",
    "\n",
    "print(var_add) "
   ]
  },
  {
   "cell_type": "code",
   "execution_count": 9,
   "id": "b3c4c0e2-90d8-4f69-9604-cbcb41aa7395",
   "metadata": {},
   "outputs": [
    {
     "name": "stdout",
     "output_type": "stream",
     "text": [
      "[0.25 0.5  0.75 1.   1.25]\n"
     ]
    }
   ],
   "source": [
    "# Division \n",
    "\n",
    "var = np.array([1, 2, 3, 4, 5])\n",
    "\n",
    "var_add = var / 4\n",
    "\n",
    "print(var_add)\n"
   ]
  },
  {
   "cell_type": "code",
   "execution_count": 9,
   "id": "220090ba-082c-4a90-b661-c9ea911133bc",
   "metadata": {},
   "outputs": [
    {
     "name": "stdout",
     "output_type": "stream",
     "text": [
      "[1 0 0 0 0]\n"
     ]
    }
   ],
   "source": [
    "# Reciprocal \n",
    "\n",
    "var = np.array([1, 2, 3, 4, 5])\n",
    "\n",
    "var_add = np.reciprocal(var)\n",
    "print(var_add)"
   ]
  },
  {
   "cell_type": "code",
   "execution_count": 10,
   "id": "f40cfbf9-dc3c-47b5-ae89-02de62539811",
   "metadata": {},
   "outputs": [
    {
     "name": "stdout",
     "output_type": "stream",
     "text": [
      "[ 2  4  6  8 10]\n"
     ]
    }
   ],
   "source": [
    "# 2D \n",
    "\n",
    "var1 = np.array([1, 2, 3, 4, 5])\n",
    "var2 = np.array([1, 2, 3, 4, 5])\n",
    "\n",
    "var_add = var1 + var2\n",
    "\n",
    "print(var_add)"
   ]
  },
  {
   "cell_type": "markdown",
   "id": "6e9510d6-ea86-4593-8105-fe7780a302d2",
   "metadata": {},
   "source": [
    "# Using functions"
   ]
  },
  {
   "cell_type": "code",
   "execution_count": 9,
   "id": "3d8f9650-eeb2-4b89-b2ca-7d8bc57f80bb",
   "metadata": {},
   "outputs": [
    {
     "name": "stdout",
     "output_type": "stream",
     "text": [
      "[4 5 6 7 8]\n"
     ]
    }
   ],
   "source": [
    "# Addition\n",
    "# 1D\n",
    "\n",
    "var = np.array([1, 2, 3, 4, 5])    # Means isme humne jo (np.add) use kiya jo var me and usme 3 add kiya. \n",
    "var_add = np.add(var, 3) \n",
    "\n",
    "print(var_add)"
   ]
  },
  {
   "cell_type": "code",
   "execution_count": 11,
   "id": "fc159af4-406a-462c-bc85-2332b7ff03fb",
   "metadata": {},
   "outputs": [
    {
     "name": "stdout",
     "output_type": "stream",
     "text": [
      "[ 2  4  6  8 10]\n"
     ]
    }
   ],
   "source": [
    "# 2D \n",
    "\n",
    "\n",
    "var1 = np.array([1, 2, 3, 4, 5])\n",
    "var2 = np.array([1, 2, 3, 4, 5])\n",
    "\n",
    "var_add = np.add(var1, var2)\n",
    "\n",
    "print(var_add)"
   ]
  },
  {
   "cell_type": "code",
   "execution_count": 4,
   "id": "3f220a4b-449d-48a3-8555-241c51a57547",
   "metadata": {},
   "outputs": [
    {
     "name": "stdout",
     "output_type": "stream",
     "text": [
      "[5 6 7 8 9]\n"
     ]
    }
   ],
   "source": [
    "# Agar usme number add karna hoga to.\n",
    "\n",
    "var1 = np.array([1, 2, 3, 4, 5])\n",
    "var2 = np.array([1, 2, 3, 4, 5])\n",
    "\n",
    "var_add = np.add(var1, 4)\n",
    "\n",
    "print(var_add)\n"
   ]
  },
  {
   "cell_type": "code",
   "execution_count": null,
   "id": "a77c9359-3e60-4bcb-a24d-ea72d2ec0059",
   "metadata": {},
   "outputs": [],
   "source": []
  },
  {
   "cell_type": "markdown",
   "id": "e626a026-7807-4c9e-825c-a6e206aab8ed",
   "metadata": {},
   "source": [
    "# 2D array"
   ]
  },
  {
   "cell_type": "code",
   "execution_count": 7,
   "id": "bbaff3de-4473-4b2b-b845-daac51ee5996",
   "metadata": {},
   "outputs": [
    {
     "name": "stdout",
     "output_type": "stream",
     "text": [
      "[[1 2 3 4]\n",
      " [1 2 3 4]]\n",
      "\n",
      "[[1 2 3 4]\n",
      " [1 2 3 4]]\n",
      "\n",
      "[[2 4 6 8]\n",
      " [2 4 6 8]]\n"
     ]
    }
   ],
   "source": [
    "# addition\n",
    "var10 = np.array([[1, 2, 3, 4], [1, 2, 3, 4]])\n",
    "var20 = np.array([[1, 2, 3, 4], [1, 2, 3, 4]])\n",
    "\n",
    "print(var10)\n",
    "print()\n",
    "print(var20)\n",
    "print()\n",
    "\n",
    "var_add2 = var10 + var20 \n",
    "print(var_add2)"
   ]
  },
  {
   "cell_type": "code",
   "execution_count": 8,
   "id": "86a11042-43a1-4b55-844e-cd6366f400d8",
   "metadata": {},
   "outputs": [
    {
     "name": "stdout",
     "output_type": "stream",
     "text": [
      "[[1 2 3 4]\n",
      " [1 2 3 4]]\n",
      "\n",
      "[[1 2 3 4]\n",
      " [1 2 3 4]]\n",
      "\n",
      "[[ 1  4  9 16]\n",
      " [ 1  4  9 16]]\n"
     ]
    }
   ],
   "source": [
    "# multiplication \n",
    "\n",
    "var10 = np.array([[1, 2, 3, 4], [1, 2, 3, 4]])\n",
    "var20 = np.array([[1, 2, 3, 4], [1, 2, 3, 4]])\n",
    "\n",
    "print(var10)\n",
    "print()\n",
    "print(var20)\n",
    "print()\n",
    "\n",
    "var_add2 = var10 * var20 \n",
    "print(var_add2)"
   ]
  },
  {
   "cell_type": "code",
   "execution_count": null,
   "id": "20622831-9cbf-4d29-a5c1-37148488a2f8",
   "metadata": {},
   "outputs": [],
   "source": []
  },
  {
   "cell_type": "markdown",
   "id": "9ca4577a-5977-4844-b819-1c5273440381",
   "metadata": {},
   "source": [
    "# Arithmetic Functions"
   ]
  },
  {
   "cell_type": "code",
   "execution_count": 18,
   "id": "1884fed3-d69d-4f82-b490-12062f15f01b",
   "metadata": {},
   "outputs": [
    {
     "name": "stdout",
     "output_type": "stream",
     "text": [
      "Max :  6\n",
      "Min :  1\n"
     ]
    }
   ],
   "source": [
    "# Max and Min \n",
    "\n",
    "var = np.array([1, 2, 3, 4, 5, 6, 2, 4])\n",
    "print(\"Max : \" ,np.max(var))\n",
    "\n",
    "# Min \n",
    "var = np.array([1, 2, 3, 4, 5, 6, 2, 4])\n",
    "print(\"Min : \" ,np.min(var))\n"
   ]
  },
  {
   "cell_type": "code",
   "execution_count": 19,
   "id": "5a6f4f7b-553f-4322-a78d-fa977acaf412",
   "metadata": {},
   "outputs": [
    {
     "name": "stdout",
     "output_type": "stream",
     "text": [
      "Max :  6 5\n",
      "Min :  1 0\n"
     ]
    }
   ],
   "source": [
    "# argmin and argmax meaning ki min and max ki position kaha hai batata hai.\n",
    "\n",
    "var = np.array([1, 2, 3, 4, 5, 6, 2, 4])\n",
    "print(\"Max : \" ,np.max(var), np.argmax(var))\n",
    "\n",
    "# Min \n",
    "var = np.array([1, 2, 3, 4, 5, 6, 2, 4])\n",
    "print(\"Min : \" ,np.min(var), np.argmin(var))\n"
   ]
  },
  {
   "cell_type": "code",
   "execution_count": 24,
   "id": "843459f9-f4ec-4b83-82d5-a0ee7351335d",
   "metadata": {},
   "outputs": [
    {
     "name": "stdout",
     "output_type": "stream",
     "text": [
      "[1 5]\n"
     ]
    }
   ],
   "source": [
    "# 2D array         \n",
    "\n",
    "var1 = np.array([[2, 1, 3],[9, 5, 6]])               # axis = 0 means column\n",
    "                                                     # axis = 1 means row\n",
    "print(np.min(var1,axis = 1))                         # [2,1,3]   for row 1\n",
    "                                                     # [9,5,6]           5\n",
    "                                         # for col min [2 1 3 ]\n"
   ]
  },
  {
   "cell_type": "markdown",
   "id": "a4170964-1366-4969-8b82-586a78ef67b6",
   "metadata": {},
   "source": [
    "## sqrt "
   ]
  },
  {
   "cell_type": "code",
   "execution_count": 25,
   "id": "d8b005cb-c892-47e1-ad22-1cb0f8c8f366",
   "metadata": {},
   "outputs": [
    {
     "name": "stdout",
     "output_type": "stream",
     "text": [
      "sqrt :  [1.         1.41421356 1.73205081 2.         2.23606798 2.44948974\n",
      " 1.41421356 2.        ]\n"
     ]
    }
   ],
   "source": [
    "# sqrt = square root \n",
    "\n",
    "var = np.array([1, 2, 3, 4, 5, 6, 2, 4])\n",
    "print(\"sqrt : \", np.sqrt(var)) \n"
   ]
  },
  {
   "cell_type": "markdown",
   "id": "c73b0ae0-5379-4ec9-b0d0-6f2b48014089",
   "metadata": {},
   "source": [
    "## sin and cos function"
   ]
  },
  {
   "cell_type": "code",
   "execution_count": 28,
   "id": "995a31f5-be63-4823-9b00-0ffac5e97e6f",
   "metadata": {},
   "outputs": [
    {
     "name": "stdout",
     "output_type": "stream",
     "text": [
      "[0.84147098 0.90929743 0.14112001]\n",
      "[ 0.54030231 -0.41614684 -0.9899925 ]\n"
     ]
    }
   ],
   "source": [
    "# For sin\n",
    "var = np.array([1, 2, 3])\n",
    "\n",
    "print(np.sin(var))\n",
    "\n",
    "# For cos \n",
    "var = np.array([1, 2, 3])\n",
    "\n",
    "print(np.cos(var))"
   ]
  },
  {
   "cell_type": "code",
   "execution_count": null,
   "id": "21ae9013-75ba-4db4-b1fa-fce07c3f1aa5",
   "metadata": {},
   "outputs": [],
   "source": []
  }
 ],
 "metadata": {
  "kernelspec": {
   "display_name": "Python 3 (ipykernel)",
   "language": "python",
   "name": "python3"
  },
  "language_info": {
   "codemirror_mode": {
    "name": "ipython",
    "version": 3
   },
   "file_extension": ".py",
   "mimetype": "text/x-python",
   "name": "python",
   "nbconvert_exporter": "python",
   "pygments_lexer": "ipython3",
   "version": "3.11.4"
  }
 },
 "nbformat": 4,
 "nbformat_minor": 5
}
