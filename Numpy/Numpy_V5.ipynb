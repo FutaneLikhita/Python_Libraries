{
 "cells": [
  {
   "cell_type": "markdown",
   "id": "9c6e3545-e14f-4794-9f3a-11ee200fc2bb",
   "metadata": {},
   "source": [
    "# Arithmetic Operation"
   ]
  },
  {
   "cell_type": "code",
   "execution_count": 1,
   "id": "433dac57-8520-4dfa-8dcf-3d2f0d31f02f",
   "metadata": {},
   "outputs": [],
   "source": [
    "import numpy "
   ]
  },
  {
   "cell_type": "code",
   "execution_count": 2,
   "id": "107ae8e2-bb89-4b19-9cb8-3809da91b935",
   "metadata": {},
   "outputs": [],
   "source": [
    "import numpy as np"
   ]
  },
  {
   "cell_type": "code",
   "execution_count": 6,
   "id": "24ea6e80-d016-4e69-b6c4-407e3dd2dc90",
   "metadata": {},
   "outputs": [
    {
     "name": "stdout",
     "output_type": "stream",
     "text": [
      "[5 6 7 8 9]\n"
     ]
    }
   ],
   "source": [
    "# 1D Array for arithmetic operation    \n",
    "# Addition \n",
    "var = np.array([1, 2, 3, 4, 5])    # Means isme humne jo (var + 4) diya hai wo var me add hoga.\n",
    "                                   #  Jaise 4+1, 4+2, 4+3, 4+4, 4+5 \n",
    "var_add = var + 4 \n",
    "\n",
    "print(var_add)"
   ]
  },
  {
   "cell_type": "code",
   "execution_count": 7,
   "id": "cb01e9ad-bdfe-4de0-94e2-19cecde2d754",
   "metadata": {},
   "outputs": [
    {
     "name": "stdout",
     "output_type": "stream",
     "text": [
      "[-3 -2 -1  0  1]\n"
     ]
    }
   ],
   "source": [
    "# Subtraction \n",
    "\n",
    "var = np.array([1, 2, 3, 4, 5])    # Means isme humne jo (var - 4) diya hai wo var me add hoga.\n",
    "                                   #  Jaise 4-1, 4-2, 4-3, 4-4, 4-5 \n",
    "var_add = var - 4 \n",
    "\n",
    "print(var_add)\n"
   ]
  },
  {
   "cell_type": "code",
   "execution_count": null,
   "id": "5e78b812-af1a-41ab-9990-f06123bbefed",
   "metadata": {},
   "outputs": [],
   "source": []
  }
 ],
 "metadata": {
  "kernelspec": {
   "display_name": "Python 3 (ipykernel)",
   "language": "python",
   "name": "python3"
  },
  "language_info": {
   "codemirror_mode": {
    "name": "ipython",
    "version": 3
   },
   "file_extension": ".py",
   "mimetype": "text/x-python",
   "name": "python",
   "nbconvert_exporter": "python",
   "pygments_lexer": "ipython3",
   "version": "3.11.4"
  }
 },
 "nbformat": 4,
 "nbformat_minor": 5
}
