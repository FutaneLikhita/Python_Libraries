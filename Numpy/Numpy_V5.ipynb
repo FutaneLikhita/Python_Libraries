{
 "cells": [
  {
   "cell_type": "markdown",
   "id": "9c6e3545-e14f-4794-9f3a-11ee200fc2bb",
   "metadata": {},
   "source": [
    "# Arithmetic Operation"
   ]
  },
  {
   "cell_type": "code",
   "execution_count": 2,
   "id": "433dac57-8520-4dfa-8dcf-3d2f0d31f02f",
   "metadata": {},
   "outputs": [],
   "source": [
    "import numpy "
   ]
  },
  {
   "cell_type": "code",
   "execution_count": 3,
   "id": "107ae8e2-bb89-4b19-9cb8-3809da91b935",
   "metadata": {},
   "outputs": [],
   "source": [
    "import numpy as np"
   ]
  },
  {
   "cell_type": "code",
   "execution_count": 6,
   "id": "24ea6e80-d016-4e69-b6c4-407e3dd2dc90",
   "metadata": {},
   "outputs": [
    {
     "name": "stdout",
     "output_type": "stream",
     "text": [
      "[5 6 7 8 9]\n"
     ]
    }
   ],
   "source": [
    "# 1D Array for arithmetic operation    \n",
    "# Addition \n",
    "var = np.array([1, 2, 3, 4, 5])    # Means isme humne jo (var + 4) diya hai wo var me add hoga.\n",
    "                                   #  Jaise 4+1, 4+2, 4+3, 4+4, 4+5 \n",
    "var_add = var + 4 \n",
    "\n",
    "print(var_add)"
   ]
  },
  {
   "cell_type": "code",
   "execution_count": 7,
   "id": "cb01e9ad-bdfe-4de0-94e2-19cecde2d754",
   "metadata": {},
   "outputs": [
    {
     "name": "stdout",
     "output_type": "stream",
     "text": [
      "[-3 -2 -1  0  1]\n"
     ]
    }
   ],
   "source": [
    "# Subtraction \n",
    "\n",
    "var = np.array([1, 2, 3, 4, 5])    # Means isme humne jo (var - 4) diya hai wo var me add hoga.\n",
    "                                   #  Jaise 4-1, 4-2, 4-3, 4-4, 4-5 \n",
    "var_add = var - 4 \n",
    "\n",
    "print(var_add)\n"
   ]
  },
  {
   "cell_type": "code",
   "execution_count": 8,
   "id": "5e78b812-af1a-41ab-9990-f06123bbefed",
   "metadata": {},
   "outputs": [
    {
     "name": "stdout",
     "output_type": "stream",
     "text": [
      "[ 4  8 12 16 20]\n"
     ]
    }
   ],
   "source": [
    "# Multiplication \n",
    "\n",
    "var = np.array([1, 2, 3, 4, 5])\n",
    "\n",
    "var_add = var * 4\n",
    "\n",
    "print(var_add) "
   ]
  },
  {
   "cell_type": "code",
   "execution_count": 9,
   "id": "b3c4c0e2-90d8-4f69-9604-cbcb41aa7395",
   "metadata": {},
   "outputs": [
    {
     "name": "stdout",
     "output_type": "stream",
     "text": [
      "[0.25 0.5  0.75 1.   1.25]\n"
     ]
    }
   ],
   "source": [
    "# Division \n",
    "\n",
    "var = np.array([1, 2, 3, 4, 5])\n",
    "\n",
    "var_add = var / 4\n",
    "\n",
    "print(var_add)\n"
   ]
  },
  {
   "cell_type": "code",
   "execution_count": 10,
   "id": "f40cfbf9-dc3c-47b5-ae89-02de62539811",
   "metadata": {},
   "outputs": [
    {
     "name": "stdout",
     "output_type": "stream",
     "text": [
      "[ 2  4  6  8 10]\n"
     ]
    }
   ],
   "source": [
    "# 2D \n",
    "\n",
    "var1 = np.array([1, 2, 3, 4, 5])\n",
    "var2 = np.array([1, 2, 3, 4, 5])\n",
    "\n",
    "var_add = var1 + var2\n",
    "\n",
    "print(var_add)"
   ]
  },
  {
   "cell_type": "markdown",
   "id": "6e9510d6-ea86-4593-8105-fe7780a302d2",
   "metadata": {},
   "source": [
    "# Using functions"
   ]
  },
  {
   "cell_type": "code",
   "execution_count": 9,
   "id": "3d8f9650-eeb2-4b89-b2ca-7d8bc57f80bb",
   "metadata": {},
   "outputs": [
    {
     "name": "stdout",
     "output_type": "stream",
     "text": [
      "[4 5 6 7 8]\n"
     ]
    }
   ],
   "source": [
    "# Addition\n",
    "# 1D\n",
    "\n",
    "var = np.array([1, 2, 3, 4, 5])    # Means isme humne jo (np.add) use kiya jo var me and usme 3 add kiya. \n",
    "var_add = np.add(var, 3) \n",
    "\n",
    "print(var_add)"
   ]
  },
  {
   "cell_type": "code",
   "execution_count": 11,
   "id": "fc159af4-406a-462c-bc85-2332b7ff03fb",
   "metadata": {},
   "outputs": [
    {
     "name": "stdout",
     "output_type": "stream",
     "text": [
      "[ 2  4  6  8 10]\n"
     ]
    }
   ],
   "source": [
    "# 2D \n",
    "\n",
    "\n",
    "var1 = np.array([1, 2, 3, 4, 5])\n",
    "var2 = np.array([1, 2, 3, 4, 5])\n",
    "\n",
    "var_add = np.add(var1, var2)\n",
    "\n",
    "print(var_add)"
   ]
  },
  {
   "cell_type": "code",
   "execution_count": 12,
   "id": "3f220a4b-449d-48a3-8555-241c51a57547",
   "metadata": {},
   "outputs": [
    {
     "name": "stdout",
     "output_type": "stream",
     "text": [
      "[5 6 7 8 9]\n"
     ]
    }
   ],
   "source": [
    "# Agar usme number add karna hoga to.\n",
    "\n",
    "var1 = np.array([1, 2, 3, 4, 5])\n",
    "var2 = np.array([1, 2, 3, 4, 5])\n",
    "\n",
    "var_add = np.add(var1, 4)\n",
    "\n",
    "print(var_add)\n"
   ]
  },
  {
   "cell_type": "code",
   "execution_count": null,
   "id": "10404705-0c68-4dd7-9f98-e784de9f023c",
   "metadata": {},
   "outputs": [],
   "source": []
  }
 ],
 "metadata": {
  "kernelspec": {
   "display_name": "Python 3 (ipykernel)",
   "language": "python",
   "name": "python3"
  },
  "language_info": {
   "codemirror_mode": {
    "name": "ipython",
    "version": 3
   },
   "file_extension": ".py",
   "mimetype": "text/x-python",
   "name": "python",
   "nbconvert_exporter": "python",
   "pygments_lexer": "ipython3",
   "version": "3.11.4"
  }
 },
 "nbformat": 4,
 "nbformat_minor": 5
}
