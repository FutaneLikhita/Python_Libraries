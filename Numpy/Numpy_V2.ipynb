{
 "cells": [
  {
   "cell_type": "markdown",
   "id": "c5a547da-640b-4faa-8a0f-d30fd4cddb66",
   "metadata": {},
   "source": [
    "# List time calculation"
   ]
  },
  {
   "cell_type": "code",
   "execution_count": 1,
   "id": "889e3732-f088-4b0d-999b-adce5344a142",
   "metadata": {},
   "outputs": [],
   "source": [
    "import numpy"
   ]
  },
  {
   "cell_type": "code",
   "execution_count": 2,
   "id": "2daa41ba-6405-4c90-aa42-d7e66df17d27",
   "metadata": {},
   "outputs": [],
   "source": [
    "import numpy as np"
   ]
  },
  {
   "cell_type": "code",
   "execution_count": 3,
   "id": "ae7e994e-20bd-4541-9472-b4014478a11f",
   "metadata": {},
   "outputs": [
    {
     "name": "stdout",
     "output_type": "stream",
     "text": [
      "16.3 µs ± 111 ns per loop (mean ± std. dev. of 7 runs, 100,000 loops each)\n"
     ]
    }
   ],
   "source": [
    "%timeit [(i ** 2) for i in range (1,100+1)]"
   ]
  },
  {
   "cell_type": "code",
   "execution_count": 4,
   "id": "dea0008b-19dd-4bbc-bbf7-e265df7d51e9",
   "metadata": {},
   "outputs": [
    {
     "name": "stdout",
     "output_type": "stream",
     "text": [
      "18.5 µs ± 288 ns per loop (mean ± std. dev. of 7 runs, 100,000 loops each)\n"
     ]
    }
   ],
   "source": [
    "%%timeit \n",
    "\n",
    "li = []\n",
    "for i in range (1,100+1):\n",
    "    li.append(i ** 2)"
   ]
  },
  {
   "cell_type": "code",
   "execution_count": null,
   "id": "a6c6cc5b-7c59-4612-a560-95eb31af08b4",
   "metadata": {},
   "outputs": [],
   "source": []
  },
  {
   "cell_type": "markdown",
   "id": "3a24d02a-65dd-4fea-bbf0-ccff0bd432c3",
   "metadata": {},
   "source": [
    "# Numpy Array time calculation"
   ]
  },
  {
   "cell_type": "code",
   "execution_count": 5,
   "id": "fc5c0a97-cd0e-4f4b-8e76-e031d8de435b",
   "metadata": {},
   "outputs": [
    {
     "name": "stdout",
     "output_type": "stream",
     "text": [
      "1.7 µs ± 79.2 ns per loop (mean ± std. dev. of 7 runs, 1,000,000 loops each)\n"
     ]
    }
   ],
   "source": [
    "%timeit (np.arange(1,100+1))**2 "
   ]
  },
  {
   "cell_type": "code",
   "execution_count": null,
   "id": "2ad66f1b-5df6-435c-bb69-c08a808ab4de",
   "metadata": {},
   "outputs": [],
   "source": []
  },
  {
   "cell_type": "markdown",
   "id": "4566709b-fdab-4be9-9c03-12973f2d00e2",
   "metadata": {},
   "source": [
    "# Array"
   ]
  },
  {
   "cell_type": "code",
   "execution_count": 6,
   "id": "ef8355e8-64ad-4409-9e42-3284ed209c24",
   "metadata": {},
   "outputs": [
    {
     "name": "stdout",
     "output_type": "stream",
     "text": [
      "[1 2 3 4]\n",
      "<class 'numpy.ndarray'>\n"
     ]
    }
   ],
   "source": [
    "li = [1, 2, 3, 4]\n",
    "\n",
    "# Creating numpy array\n",
    "x = np.array(li)\n",
    "\n",
    "# Printing array \n",
    "print(x)\n",
    "\n",
    "# Printing type of array\n",
    "print(type(x))               # ndarray = n dimensional array"
   ]
  },
  {
   "cell_type": "code",
   "execution_count": 7,
   "id": "9d947fca-37d4-4f0b-a0fc-b94f0e0e2c43",
   "metadata": {},
   "outputs": [
    {
     "name": "stdin",
     "output_type": "stream",
     "text": [
      "Enter no :  2\n",
      "Enter no :  3\n",
      "Enter no :  4\n",
      "Enter no :  5\n",
      "Enter no :  6\n"
     ]
    },
    {
     "name": "stdout",
     "output_type": "stream",
     "text": [
      "[2 3 4 5 6]\n"
     ]
    }
   ],
   "source": [
    "# Creating empty list \n",
    "l = []\n",
    "\n",
    "# Running for loop from 1 to 5\n",
    "for i in range(1,6):\n",
    "\n",
    "    # Getting input from user in int format \n",
    "    x = int(input(\"Enter no : \"))\n",
    "\n",
    "    # Appending the value to list l\n",
    "    l.append(x)\n",
    "    \n",
    "# Converting list to numpy array and printing\n",
    "print(np.array(l))\n",
    "\n"
   ]
  },
  {
   "cell_type": "code",
   "execution_count": null,
   "id": "8e70f4f7-f6ef-4cd8-a4e8-ac9a0609245f",
   "metadata": {},
   "outputs": [],
   "source": []
  }
 ],
 "metadata": {
  "kernelspec": {
   "display_name": "Python 3 (ipykernel)",
   "language": "python",
   "name": "python3"
  },
  "language_info": {
   "codemirror_mode": {
    "name": "ipython",
    "version": 3
   },
   "file_extension": ".py",
   "mimetype": "text/x-python",
   "name": "python",
   "nbconvert_exporter": "python",
   "pygments_lexer": "ipython3",
   "version": "3.11.4"
  }
 },
 "nbformat": 4,
 "nbformat_minor": 5
}
