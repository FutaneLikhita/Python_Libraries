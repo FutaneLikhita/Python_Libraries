{
 "cells": [
  {
   "cell_type": "markdown",
   "id": "c5a547da-640b-4faa-8a0f-d30fd4cddb66",
   "metadata": {},
   "source": [
    "# List time calculation"
   ]
  },
  {
   "cell_type": "code",
   "execution_count": 1,
   "id": "889e3732-f088-4b0d-999b-adce5344a142",
   "metadata": {},
   "outputs": [],
   "source": [
    "import numpy"
   ]
  },
  {
   "cell_type": "code",
   "execution_count": 2,
   "id": "2daa41ba-6405-4c90-aa42-d7e66df17d27",
   "metadata": {},
   "outputs": [],
   "source": [
    "import numpy as np"
   ]
  },
  {
   "cell_type": "code",
   "execution_count": 3,
   "id": "ae7e994e-20bd-4541-9472-b4014478a11f",
   "metadata": {},
   "outputs": [
    {
     "name": "stdout",
     "output_type": "stream",
     "text": [
      "16.3 µs ± 111 ns per loop (mean ± std. dev. of 7 runs, 100,000 loops each)\n"
     ]
    }
   ],
   "source": [
    "%timeit [(i ** 2) for i in range (1,100+1)]"
   ]
  },
  {
   "cell_type": "code",
   "execution_count": null,
   "id": "dea0008b-19dd-4bbc-bbf7-e265df7d51e9",
   "metadata": {},
   "outputs": [],
   "source": [
    "%%timeit \n",
    "\n",
    "li = []\n",
    "for i in range (1,100+1):\n",
    "    li.append(i ** 2)"
   ]
  },
  {
   "cell_type": "code",
   "execution_count": null,
   "id": "a6c6cc5b-7c59-4612-a560-95eb31af08b4",
   "metadata": {},
   "outputs": [],
   "source": []
  }
 ],
 "metadata": {
  "kernelspec": {
   "display_name": "Python 3 (ipykernel)",
   "language": "python",
   "name": "python3"
  },
  "language_info": {
   "codemirror_mode": {
    "name": "ipython",
    "version": 3
   },
   "file_extension": ".py",
   "mimetype": "text/x-python",
   "name": "python",
   "nbconvert_exporter": "python",
   "pygments_lexer": "ipython3",
   "version": "3.11.4"
  }
 },
 "nbformat": 4,
 "nbformat_minor": 5
}
