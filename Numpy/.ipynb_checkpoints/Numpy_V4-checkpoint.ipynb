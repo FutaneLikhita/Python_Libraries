{
 "cells": [
  {
   "cell_type": "markdown",
   "id": "e34e45d0-4750-481b-84ef-b72a7e843bc8",
   "metadata": {},
   "source": [
    "# Data Type Functions"
   ]
  },
  {
   "cell_type": "code",
   "execution_count": 3,
   "id": "8dab6f82-f197-408b-a932-426a6145dc0d",
   "metadata": {},
   "outputs": [],
   "source": [
    "import numpy"
   ]
  },
  {
   "cell_type": "code",
   "execution_count": 4,
   "id": "8dbe5459-e388-4466-a53a-12f73992322a",
   "metadata": {},
   "outputs": [],
   "source": [
    "import numpy as np"
   ]
  },
  {
   "cell_type": "code",
   "execution_count": 9,
   "id": "d8d47bbe-7b6d-4859-84f2-db05899d4580",
   "metadata": {},
   "outputs": [
    {
     "name": "stdout",
     "output_type": "stream",
     "text": [
      "Data Type :  int64\n"
     ]
    }
   ],
   "source": [
    "# Finding data type \n",
    "\n",
    "# For integer\n",
    "\n",
    "var = np.array([1,2,3,4,5,11,12,13,14,15])\n",
    "\n",
    "print(\"Data Type : \",var.dtype)"
   ]
  },
  {
   "cell_type": "code",
   "execution_count": 8,
   "id": "50afe7f5-bb46-47bf-a119-44b1a4c991ab",
   "metadata": {},
   "outputs": [
    {
     "name": "stdout",
     "output_type": "stream",
     "text": [
      "Data Type :  int64\n"
     ]
    }
   ],
   "source": [
    "var = np.array([1,2,3,4,5])\n",
    "\n",
    "print(\"Data Type : \",var.dtype)"
   ]
  },
  {
   "cell_type": "code",
   "execution_count": 12,
   "id": "b402c210-3dae-48fb-a8b4-8a0824d55e23",
   "metadata": {},
   "outputs": [
    {
     "name": "stdout",
     "output_type": "stream",
     "text": [
      "Data Type :  float64\n"
     ]
    }
   ],
   "source": [
    "# For float \n",
    "\n",
    "var1 = np.array([1.0,2.5,3.7,4.3,5.11])\n",
    "\n",
    "print(\"Data Type : \",var.dtype)\n"
   ]
  },
  {
   "cell_type": "code",
   "execution_count": null,
   "id": "116444a2-0f61-4417-85e8-28d752879891",
   "metadata": {},
   "outputs": [],
   "source": []
  }
 ],
 "metadata": {
  "kernelspec": {
   "display_name": "Python 3 (ipykernel)",
   "language": "python",
   "name": "python3"
  },
  "language_info": {
   "codemirror_mode": {
    "name": "ipython",
    "version": 3
   },
   "file_extension": ".py",
   "mimetype": "text/x-python",
   "name": "python",
   "nbconvert_exporter": "python",
   "pygments_lexer": "ipython3",
   "version": "3.11.4"
  }
 },
 "nbformat": 4,
 "nbformat_minor": 5
}
