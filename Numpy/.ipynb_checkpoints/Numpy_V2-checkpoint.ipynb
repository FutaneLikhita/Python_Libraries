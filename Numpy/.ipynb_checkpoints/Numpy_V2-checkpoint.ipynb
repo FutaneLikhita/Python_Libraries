{
 "cells": [
  {
   "cell_type": "markdown",
   "id": "c5a547da-640b-4faa-8a0f-d30fd4cddb66",
   "metadata": {},
   "source": [
    "# List time calculation"
   ]
  },
  {
   "cell_type": "code",
   "execution_count": 1,
   "id": "889e3732-f088-4b0d-999b-adce5344a142",
   "metadata": {},
   "outputs": [],
   "source": [
    "import numpy"
   ]
  },
  {
   "cell_type": "code",
   "execution_count": 2,
   "id": "2daa41ba-6405-4c90-aa42-d7e66df17d27",
   "metadata": {},
   "outputs": [],
   "source": [
    "import numpy as np"
   ]
  },
  {
   "cell_type": "code",
   "execution_count": 3,
   "id": "ae7e994e-20bd-4541-9472-b4014478a11f",
   "metadata": {},
   "outputs": [
    {
     "name": "stdout",
     "output_type": "stream",
     "text": [
      "10.8 µs ± 92.1 ns per loop (mean ± std. dev. of 7 runs, 100,000 loops each)\n"
     ]
    }
   ],
   "source": [
    "%timeit [(i ** 2) for i in range (1,100+1)]"
   ]
  },
  {
   "cell_type": "code",
   "execution_count": null,
   "id": "dea0008b-19dd-4bbc-bbf7-e265df7d51e9",
   "metadata": {},
   "outputs": [
    {
     "name": "stdout",
     "output_type": "stream",
     "text": [
      "12.1 µs ± 186 ns per loop (mean ± std. dev. of 7 runs, 100,000 loops each)\n"
     ]
    }
   ],
   "source": [
    "%%timeit \n",
    "\n",
    "li = []\n",
    "for i in range(1,100+1):\n",
    "    li.append(i ** 2)"
   ]
  },
  {
   "cell_type": "code",
   "execution_count": null,
   "id": "a6c6cc5b-7c59-4612-a560-95eb31af08b4",
   "metadata": {},
   "outputs": [],
   "source": []
  },
  {
   "cell_type": "markdown",
   "id": "3a24d02a-65dd-4fea-bbf0-ccff0bd432c3",
   "metadata": {},
   "source": [
    "# Numpy Array time calculation"
   ]
  },
  {
   "cell_type": "code",
   "execution_count": 5,
   "id": "fc5c0a97-cd0e-4f4b-8e76-e031d8de435b",
   "metadata": {},
   "outputs": [
    {
     "name": "stdout",
     "output_type": "stream",
     "text": [
      "2.58 µs ± 59.4 ns per loop (mean ± std. dev. of 7 runs, 100,000 loops each)\n"
     ]
    }
   ],
   "source": [
    "%timeit (np.arange(1,100+1))**2 "
   ]
  },
  {
   "cell_type": "code",
   "execution_count": null,
   "id": "2ad66f1b-5df6-435c-bb69-c08a808ab4de",
   "metadata": {},
   "outputs": [],
   "source": []
  },
  {
   "cell_type": "markdown",
   "id": "4566709b-fdab-4be9-9c03-12973f2d00e2",
   "metadata": {},
   "source": [
    "# Array"
   ]
  },
  {
   "cell_type": "code",
   "execution_count": null,
   "id": "ef8355e8-64ad-4409-9e42-3284ed209c24",
   "metadata": {},
   "outputs": [
    {
     "name": "stdout",
     "output_type": "stream",
     "text": [
      "6\n",
      "<class 'int'>\n"
     ]
    }
   ],
   "source": [
    "li = [1, 2, 3, 4]\n",
    "\n",
    "# Creating numpy array\n",
    "y = np.array(li)\n",
    "\n",
    "# Printing array \n",
    "print(x)\n",
    "\n",
    "# Printing type of array\n",
    "print(type(x))               # ndarray = n dimensional array"
   ]
  },
  {
   "cell_type": "code",
   "execution_count": 10,
   "id": "9d947fca-37d4-4f0b-a0fc-b94f0e0e2c43",
   "metadata": {},
   "outputs": [
    {
     "name": "stdout",
     "output_type": "stream",
     "text": [
      "Enter no :  2\n",
      "Enter no :  3\n",
      "Enter no :  4\n",
      "Enter no :  5\n",
      "Enter no :  6\n"
     ]
    },
    {
     "name": "stdout",
     "output_type": "stream",
     "text": [
      "[2 3 4 5 6]\n"
     ]
    }
   ],
   "source": [
    "# Creating empty list \n",
    "l = []\n",
    "\n",
    "# Running for loop from 1 to 5\n",
    "for i in range(1,6):\n",
    "\n",
    "    # Getting input from user in int format \n",
    "    x = int(input(\"Enter no : \"))\n",
    "\n",
    "    # Appending the value to list l\n",
    "    l.append(x)\n",
    "    \n",
    "# Converting list to numpy array and printing\n",
    "print(np.array(l))\n",
    "\n"
   ]
  },
  {
   "cell_type": "code",
   "execution_count": null,
   "id": "8e70f4f7-f6ef-4cd8-a4e8-ac9a0609245f",
   "metadata": {},
   "outputs": [],
   "source": []
  },
  {
   "cell_type": "code",
   "execution_count": 17,
   "id": "2a3cc62f-cdc3-4106-91f7-2a8914745554",
   "metadata": {},
   "outputs": [
    {
     "name": "stdout",
     "output_type": "stream",
     "text": [
      "1\n",
      "1\n"
     ]
    }
   ],
   "source": [
    "# Count for 1D array in function (.ndim)\n",
    "\n",
    "print(y.ndim) \n",
    "print(np.array(l).ndim)"
   ]
  },
  {
   "cell_type": "code",
   "execution_count": 19,
   "id": "3dbf88a5-1271-4332-9c9b-9948f61a33e1",
   "metadata": {},
   "outputs": [
    {
     "name": "stdout",
     "output_type": "stream",
     "text": [
      "[[1 2 3 4 5]]\n",
      "2\n"
     ]
    }
   ],
   "source": [
    "# For 2D array \n",
    "\n",
    "# Creating a 2D np array \n",
    "arr2 = np.array([ [1, 2, 3, 4, 5]]) \n",
    "\n",
    "# Printing arr2\n",
    "print(arr2)\n",
    "\n",
    "# Printing dimensions of arr2\n",
    "print(arr2.ndim)\n",
    "\n"
   ]
  },
  {
   "cell_type": "code",
   "execution_count": 23,
   "id": "48ebbead-4233-4c74-bd63-33e2ab377f10",
   "metadata": {},
   "outputs": [
    {
     "name": "stdout",
     "output_type": "stream",
     "text": [
      "[[ 1  2  3  4  5]\n",
      " [ 6  7  8  9 10]]\n",
      "2\n"
     ]
    }
   ],
   "source": [
    "# For 2D array (multiple array create kar sakte hai)\n",
    "\n",
    "# Creating a 2D np array \n",
    "arr2 = np.array([ [1, 2, 3, 4, 5],[6,7,8,9,10]]) \n",
    "\n",
    "# Printing arr2\n",
    "print(arr2)\n",
    "\n",
    "# Printing dimensions of arr2\n",
    "print(arr2.ndim)\n",
    "\n"
   ]
  },
  {
   "cell_type": "code",
   "execution_count": 25,
   "id": "60b49536-beb3-4ee1-9a7b-c9902a514995",
   "metadata": {},
   "outputs": [
    {
     "name": "stdout",
     "output_type": "stream",
     "text": [
      "[[1 2 3]\n",
      " [4 5 6]\n",
      " [7 8 9]]\n",
      "2\n"
     ]
    }
   ],
   "source": [
    "# Creating 3 by 3 2D array \n",
    "\n",
    "arr3 = np.array([\n",
    "    [1,2,3],\n",
    "    [4,5,6],\n",
    "    [7,8,9]\n",
    "])\n",
    "\n",
    "print(arr3)\n",
    "print(arr3.ndim)"
   ]
  },
  {
   "cell_type": "code",
   "execution_count": 26,
   "id": "47219f0f-66b4-4a31-b01b-274564f9a077",
   "metadata": {},
   "outputs": [
    {
     "name": "stdout",
     "output_type": "stream",
     "text": [
      "[[[ 1  2  3  4]\n",
      "  [ 5  6  7  8]\n",
      "  [ 9 10 11 12]]]\n",
      "3\n"
     ]
    }
   ],
   "source": [
    "# For 3D array \n",
    "\n",
    "# Creating a 3D np array \n",
    "arr3d = np.array([[\n",
    "    [1,2,3,4],\n",
    "    [5,6,7,8],\n",
    "    [9,10,11,12]\n",
    "]]) \n",
    "\n",
    "# Printing arr2\n",
    "print(arr3d)\n",
    "\n",
    "# Printing dimensions of arr2\n",
    "print(arr3d.ndim)\n"
   ]
  },
  {
   "cell_type": "code",
   "execution_count": 30,
   "id": "8576bd84-c7db-4a73-951a-13c23a737b44",
   "metadata": {},
   "outputs": [
    {
     "name": "stdout",
     "output_type": "stream",
     "text": [
      "[[[[[[[[[[1 2 3 4 5]]]]]]]]]]\n",
      "10\n"
     ]
    }
   ],
   "source": [
    "# For n-D array \n",
    "\n",
    "# Creating a n-D np array \n",
    "\n",
    "arrn = np.array([1,2,3,4,5], ndmin = 10)   # Using ndmin keyword\n",
    "\n",
    "#Printing n - dimensional array\n",
    "print(arrn)\n",
    "\n",
    "#printing dimensions of arrn\n",
    "print(arrn.ndim)"
   ]
  },
  {
   "cell_type": "code",
   "execution_count": 4,
   "id": "0a9e6bc0-f46b-44dc-8709-e535ef21524d",
   "metadata": {},
   "outputs": [
    {
     "name": "stdout",
     "output_type": "stream",
     "text": [
      "[[[[[1 2 3 4 5]]]]]\n",
      "5\n"
     ]
    }
   ],
   "source": [
    "# For n-D array \n",
    "\n",
    "# Creating a n-D np array \n",
    "\n",
    "arrn = np.array([1,2,3,4,5], ndmin = 5)   # Using ndmin keyword\n",
    "\n",
    "#Printing n - dimensional array\n",
    "print(arrn)\n",
    "\n",
    "#printing dimensions of arrn\n",
    "print(arrn.ndim)"
   ]
  },
  {
   "cell_type": "code",
   "execution_count": null,
   "id": "e8965811-c280-4abf-bb5b-ec8f09c1e357",
   "metadata": {},
   "outputs": [],
   "source": []
  },
  {
   "cell_type": "markdown",
   "id": "3c6bd57f-06b5-42a0-afc4-e3da8ac5f0e1",
   "metadata": {},
   "source": [
    "# Zeros"
   ]
  },
  {
   "cell_type": "code",
   "execution_count": 4,
   "id": "4ef59ded-757e-44df-811d-866ecfe37f67",
   "metadata": {},
   "outputs": [
    {
     "name": "stdout",
     "output_type": "stream",
     "text": [
      "[0. 0. 0. 0. 0.]\n"
     ]
    }
   ],
   "source": [
    "# Creating special numpy array\n",
    "\n",
    "# Creating zeros numpy array (1D)\n",
    "ar_zeros = np.zeros(5)         # 1D array ke liye hai \n",
    "\n",
    "# Printing ar_zeros\n",
    "print(ar_zeros)"
   ]
  },
  {
   "cell_type": "code",
   "execution_count": 7,
   "id": "899d53e6-7350-438d-91bf-9696a4537142",
   "metadata": {},
   "outputs": [
    {
     "name": "stdout",
     "output_type": "stream",
     "text": [
      "[[0. 0.]\n",
      " [0. 0.]\n",
      " [0. 0.]]\n"
     ]
    }
   ],
   "source": [
    "# Creating zeros numpy array (2D)\n",
    "ar_zeros1 = np.zeros((3,2))         # 2D array ke liye hai (3 rows , 2 columns) \n",
    "\n",
    "# Printing ar_zeros\n",
    "print(ar_zeros1)"
   ]
  },
  {
   "cell_type": "code",
   "execution_count": 11,
   "id": "d0b3123a-e31e-4801-bb9d-201694555cfe",
   "metadata": {},
   "outputs": [
    {
     "name": "stdout",
     "output_type": "stream",
     "text": [
      "[[[0. 0.]\n",
      "  [0. 0.]\n",
      "  [0. 0.]]\n",
      "\n",
      " [[0. 0.]\n",
      "  [0. 0.]\n",
      "  [0. 0.]]\n",
      "\n",
      " [[0. 0.]\n",
      "  [0. 0.]\n",
      "  [0. 0.]]\n",
      "\n",
      " [[0. 0.]\n",
      "  [0. 0.]\n",
      "  [0. 0.]]]\n"
     ]
    }
   ],
   "source": [
    "# Creating zeros numpy array (3D)\n",
    "ar_zeros2 = np.zeros((4,3,2))         # 3D array ke liye hai (4 size aur depth,  3 rows , 2 columns) \n",
    "\n",
    "# Printing ar_zeros\n",
    "print(ar_zeros2)"
   ]
  },
  {
   "cell_type": "code",
   "execution_count": null,
   "id": "2924033f-b90c-420a-82dc-ea8823cfb087",
   "metadata": {},
   "outputs": [],
   "source": []
  },
  {
   "cell_type": "markdown",
   "id": "1f135fd0-8c36-42cb-9460-e6a976cf6c8d",
   "metadata": {},
   "source": [
    "# Ones"
   ]
  },
  {
   "cell_type": "code",
   "execution_count": 12,
   "id": "e119db18-0f76-482d-bb11-149e8be2f11d",
   "metadata": {},
   "outputs": [
    {
     "name": "stdout",
     "output_type": "stream",
     "text": [
      "[1. 1. 1.]\n"
     ]
    }
   ],
   "source": [
    "# Creating ones numpy array (1D)\n",
    "ar_ones = np.ones(3)\n",
    "\n",
    "# Printing ar_ones\n",
    "print(ar_ones)"
   ]
  },
  {
   "cell_type": "code",
   "execution_count": 14,
   "id": "18ec1202-8bfc-4676-ab86-4e9e037e2f69",
   "metadata": {},
   "outputs": [
    {
     "name": "stdout",
     "output_type": "stream",
     "text": [
      "[[1. 1. 1.]\n",
      " [1. 1. 1.]\n",
      " [1. 1. 1.]\n",
      " [1. 1. 1.]\n",
      " [1. 1. 1.]]\n"
     ]
    }
   ],
   "source": [
    "# Creating ones numpy array (2D)\n",
    "ar_ones1 = np.ones((5,3))         # 2D array ke liye hai (3 rows , 2 columns) \n",
    "\n",
    "# Printing ar_zeros\n",
    "print(ar_ones1)"
   ]
  },
  {
   "cell_type": "code",
   "execution_count": null,
   "id": "f5b14776-025c-4314-a931-2b617ec40b52",
   "metadata": {},
   "outputs": [],
   "source": []
  },
  {
   "cell_type": "markdown",
   "id": "fade6e05-3cb3-49d8-8cd2-5b9b28c4feff",
   "metadata": {},
   "source": [
    "# Empty Array"
   ]
  },
  {
   "cell_type": "code",
   "execution_count": 18,
   "id": "b63ca1f7-3d64-4a78-95b0-5ad86a8e045a",
   "metadata": {},
   "outputs": [
    {
     "name": "stdout",
     "output_type": "stream",
     "text": [
      "[6.23042070e-307 4.67296746e-307 1.69121096e-306 0.00000000e+000]\n"
     ]
    }
   ],
   "source": [
    "# Creating empty numpy array  (Previous ka leta hai)\n",
    "ar_em = np.empty(4)\n",
    "\n",
    "# Printing ar_em\n",
    "print(ar_em)"
   ]
  },
  {
   "cell_type": "code",
   "execution_count": null,
   "id": "31ae1bd0-019c-4ce0-83ff-3d68f2fc9a85",
   "metadata": {},
   "outputs": [],
   "source": []
  }
 ],
 "metadata": {
  "kernelspec": {
   "display_name": "Python 3 (ipykernel)",
   "language": "python",
   "name": "python3"
  },
  "language_info": {
   "codemirror_mode": {
    "name": "ipython",
    "version": 3
   },
   "file_extension": ".py",
   "mimetype": "text/x-python",
   "name": "python",
   "nbconvert_exporter": "python",
   "pygments_lexer": "ipython3",
   "version": "3.11.4"
  }
 },
 "nbformat": 4,
 "nbformat_minor": 5
}
