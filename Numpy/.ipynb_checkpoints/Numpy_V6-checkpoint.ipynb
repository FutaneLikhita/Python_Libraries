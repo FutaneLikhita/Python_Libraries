{
 "cells": [
  {
   "cell_type": "markdown",
   "id": "6d87c7a3-5535-414f-be5b-cb0f6e771b17",
   "metadata": {},
   "source": [
    "# Shape"
   ]
  },
  {
   "cell_type": "code",
   "execution_count": 2,
   "id": "d8c6452b-8647-41bb-a967-b137c72e1045",
   "metadata": {},
   "outputs": [],
   "source": [
    "import numpy"
   ]
  },
  {
   "cell_type": "code",
   "execution_count": 3,
   "id": "044613b3-6330-4b8e-8836-c30b45a9e255",
   "metadata": {},
   "outputs": [],
   "source": [
    "import numpy as np"
   ]
  },
  {
   "cell_type": "markdown",
   "id": "f14a82ae-ade1-41d7-9383-cad3ac315a62",
   "metadata": {},
   "source": [
    "## 1D array"
   ]
  },
  {
   "cell_type": "code",
   "execution_count": 9,
   "id": "4cd9d5c4-9bb4-4650-82b4-964dc0f6287b",
   "metadata": {},
   "outputs": [
    {
     "name": "stdout",
     "output_type": "stream",
     "text": [
      "[1 2 3 4 5]\n",
      "(5,)\n"
     ]
    }
   ],
   "source": [
    "var = np.array([1, 2, 3, 4, 5])\n",
    "\n",
    "# Printing array \n",
    "print(var)\n",
    "\n",
    "# Printing shape of array           # o/p (5,) means 1 row and 5 elements\n",
    "print(var.shape)"
   ]
  },
  {
   "cell_type": "markdown",
   "id": "faf05a84-edee-4448-8ea4-c3c06ec7d08a",
   "metadata": {},
   "source": [
    "## 2D array"
   ]
  },
  {
   "cell_type": "code",
   "execution_count": 13,
   "id": "96eb3db3-ce8a-4340-a36a-079562bb5815",
   "metadata": {},
   "outputs": [
    {
     "name": "stdout",
     "output_type": "stream",
     "text": [
      "[[1 2 3 4]\n",
      " [1 2 3 4]]\n",
      "(2, 4)\n"
     ]
    }
   ],
   "source": [
    "var = np.array([[1, 2, 3, 4],[1, 2, 3, 4]]) \n",
    "\n",
    "# Printing array \n",
    "print(var)\n",
    "\n",
    "# Printing shape of array           # o/p (2, 4) means 2 row and 4 col.\n",
    "print(var.shape)"
   ]
  },
  {
   "cell_type": "markdown",
   "id": "2e0d4b45-d9c2-4ed5-9b1e-0021f253a407",
   "metadata": {},
   "source": [
    "## 3D array"
   ]
  },
  {
   "cell_type": "code",
   "execution_count": 16,
   "id": "fe8e2b05-6bb0-4da9-a845-c556aa48061f",
   "metadata": {},
   "outputs": [
    {
     "name": "stdout",
     "output_type": "stream",
     "text": [
      "[[[1 2]\n",
      "  [1 2]]\n",
      "\n",
      " [[1 2]\n",
      "  [1 2]]]\n",
      "(2, 2, 2)\n"
     ]
    }
   ],
   "source": [
    "var = np.array([[[1, 2],[1, 2]],[[1, 2],[1, 2]]])\n",
    "\n",
    "# Printing array \n",
    "print(var)\n",
    "\n",
    "# Printing shape of array           # o/p (2,2,2) means 2- blocks, 2 -rows and 2 -col.\n",
    "print(var.shape)"
   ]
  },
  {
   "cell_type": "code",
   "execution_count": 20,
   "id": "d611bffa-462c-4673-af8c-4dc09b420ac4",
   "metadata": {},
   "outputs": [
    {
     "name": "stdout",
     "output_type": "stream",
     "text": [
      "[[[1 2 3 4]]]\n",
      "(1, 1, 4)\n"
     ]
    }
   ],
   "source": [
    "# Another example of multi - dimensional array \n",
    "\n",
    "var = np.array([1, 2, 3, 4], ndmin = 3)\n",
    "\n",
    "# Printing array \n",
    "print(var)\n",
    "\n",
    "# Printing shape of array           # o/p (1, 1, 4) means 1 block, 1 row and 4 col.\n",
    "print(var.shape)"
   ]
  },
  {
   "cell_type": "code",
   "execution_count": null,
   "id": "43d246e6-b3c4-4f04-a690-6899478f07a3",
   "metadata": {},
   "outputs": [],
   "source": []
  }
 ],
 "metadata": {
  "kernelspec": {
   "display_name": "Python 3 (ipykernel)",
   "language": "python",
   "name": "python3"
  },
  "language_info": {
   "codemirror_mode": {
    "name": "ipython",
    "version": 3
   },
   "file_extension": ".py",
   "mimetype": "text/x-python",
   "name": "python",
   "nbconvert_exporter": "python",
   "pygments_lexer": "ipython3",
   "version": "3.11.4"
  }
 },
 "nbformat": 4,
 "nbformat_minor": 5
}
